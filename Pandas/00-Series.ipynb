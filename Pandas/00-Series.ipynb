{
 "cells": [
  {
   "cell_type": "code",
   "execution_count": 2,
   "id": "eca2157e-cd8c-4985-bbef-99918be1639a",
   "metadata": {},
   "outputs": [],
   "source": [
    "import numpy as np\n",
    "import pandas as pd"
   ]
  },
  {
   "cell_type": "raw",
   "id": "67baed01-1774-4246-b0f8-4a3d35eba4f2",
   "metadata": {},
   "source": [
    "help(pd.Series)"
   ]
  },
  {
   "cell_type": "code",
   "execution_count": 3,
   "id": "301bd548-1789-42ba-8e28-06020b699b3f",
   "metadata": {},
   "outputs": [],
   "source": [
    "myindex = ['USA', 'Canada', 'Mexico']"
   ]
  },
  {
   "cell_type": "code",
   "execution_count": 4,
   "id": "85f06235-97a1-4e33-bb98-a1f3f7b7a77a",
   "metadata": {},
   "outputs": [],
   "source": [
    "mydata = [1776, 1867, 1821]"
   ]
  },
  {
   "cell_type": "code",
   "execution_count": 5,
   "id": "5dcd236e-6c5c-463b-83b4-87bb84bbbf95",
   "metadata": {},
   "outputs": [],
   "source": [
    "myseries = pd.Series(mydata)"
   ]
  },
  {
   "cell_type": "code",
   "execution_count": 6,
   "id": "8f0aaa29-45a3-48ab-a890-427cb92e6fc9",
   "metadata": {},
   "outputs": [
    {
     "data": {
      "text/plain": [
       "0    1776\n",
       "1    1867\n",
       "2    1821\n",
       "dtype: int64"
      ]
     },
     "execution_count": 6,
     "metadata": {},
     "output_type": "execute_result"
    }
   ],
   "source": [
    "myseries"
   ]
  },
  {
   "cell_type": "code",
   "execution_count": 7,
   "id": "0a72c18a-2d1f-4beb-ac53-27e54da8452e",
   "metadata": {},
   "outputs": [
    {
     "data": {
      "text/plain": [
       "pandas.core.series.Series"
      ]
     },
     "execution_count": 7,
     "metadata": {},
     "output_type": "execute_result"
    }
   ],
   "source": [
    "type(myseries)"
   ]
  },
  {
   "cell_type": "code",
   "execution_count": 8,
   "id": "21c8956e-4041-487d-9d3f-87c9cdc4d942",
   "metadata": {},
   "outputs": [],
   "source": [
    "myseries = pd.Series(data=mydata, index=myindex)"
   ]
  },
  {
   "cell_type": "code",
   "execution_count": 9,
   "id": "874ea97b-216e-4cf6-a62f-fbffc9156d27",
   "metadata": {},
   "outputs": [
    {
     "data": {
      "text/plain": [
       "USA       1776\n",
       "Canada    1867\n",
       "Mexico    1821\n",
       "dtype: int64"
      ]
     },
     "execution_count": 9,
     "metadata": {},
     "output_type": "execute_result"
    }
   ],
   "source": [
    "myseries"
   ]
  },
  {
   "cell_type": "code",
   "execution_count": 11,
   "id": "837595bf-390a-4b7c-b782-cf34dea1ccf3",
   "metadata": {},
   "outputs": [
    {
     "name": "stderr",
     "output_type": "stream",
     "text": [
      "/var/folders/pz/7z41zr2s0kg46yhdwsdgyvnh0000gp/T/ipykernel_72207/325975676.py:1: FutureWarning: Series.__getitem__ treating keys as positions is deprecated. In a future version, integer keys will always be treated as labels (consistent with DataFrame behavior). To access a value by position, use `ser.iloc[pos]`\n",
      "  myseries[0]\n"
     ]
    },
    {
     "data": {
      "text/plain": [
       "np.int64(1776)"
      ]
     },
     "execution_count": 11,
     "metadata": {},
     "output_type": "execute_result"
    }
   ],
   "source": [
    "myseries[0]"
   ]
  },
  {
   "cell_type": "code",
   "execution_count": 12,
   "id": "d9907b63-7d83-491e-bb6a-283d58a75fa2",
   "metadata": {},
   "outputs": [
    {
     "data": {
      "text/plain": [
       "np.int64(1776)"
      ]
     },
     "execution_count": 12,
     "metadata": {},
     "output_type": "execute_result"
    }
   ],
   "source": [
    "myseries.iloc[0]"
   ]
  },
  {
   "cell_type": "code",
   "execution_count": 13,
   "id": "12a4fad1-4e03-4f0a-a1c5-fb75695fa438",
   "metadata": {},
   "outputs": [
    {
     "data": {
      "text/plain": [
       "np.int64(1776)"
      ]
     },
     "execution_count": 13,
     "metadata": {},
     "output_type": "execute_result"
    }
   ],
   "source": [
    "myseries['USA']"
   ]
  },
  {
   "cell_type": "code",
   "execution_count": 15,
   "id": "c8822d63-b9ce-4a8d-808f-2bfa2afbec80",
   "metadata": {},
   "outputs": [],
   "source": [
    "ages = {\"Ajay\": 42, \"Aarnik\": 4, \"Arika\": 10}"
   ]
  },
  {
   "cell_type": "code",
   "execution_count": 16,
   "id": "cb2e0621-7bc0-4087-b4a0-471e41b675d1",
   "metadata": {},
   "outputs": [
    {
     "data": {
      "text/plain": [
       "{'Ajay': 42, 'Aarnik': 4, 'Arika': 10}"
      ]
     },
     "execution_count": 16,
     "metadata": {},
     "output_type": "execute_result"
    }
   ],
   "source": [
    "ages"
   ]
  },
  {
   "cell_type": "code",
   "execution_count": 17,
   "id": "6108fc8d-ced5-42d1-97be-3dd5dcfd5e64",
   "metadata": {},
   "outputs": [
    {
     "data": {
      "text/plain": [
       "Ajay      42\n",
       "Aarnik     4\n",
       "Arika     10\n",
       "dtype: int64"
      ]
     },
     "execution_count": 17,
     "metadata": {},
     "output_type": "execute_result"
    }
   ],
   "source": [
    "pd.Series(ages)"
   ]
  },
  {
   "cell_type": "code",
   "execution_count": 18,
   "id": "1b30a4be-9875-4e48-b1f4-64c378df9a40",
   "metadata": {},
   "outputs": [],
   "source": [
    "q1 = {'Japan': 80, 'China': 450, 'India': 200, 'USA': 250}\n",
    "q2 = {'Brazil': 100,'China': 500, 'India': 210,'USA': 260}"
   ]
  },
  {
   "cell_type": "code",
   "execution_count": 19,
   "id": "615a481b-b8e9-47be-94a6-b86a5fffda63",
   "metadata": {},
   "outputs": [],
   "source": [
    "sales_q1 = pd.Series(q1)"
   ]
  },
  {
   "cell_type": "code",
   "execution_count": 20,
   "id": "e7247d98-43b2-43b5-826d-76640095511f",
   "metadata": {},
   "outputs": [],
   "source": [
    "sales_q2 = pd.Series(q2)"
   ]
  },
  {
   "cell_type": "code",
   "execution_count": 21,
   "id": "739c56da-709c-4ccf-b2b2-bc1d01e1684a",
   "metadata": {},
   "outputs": [
    {
     "data": {
      "text/plain": [
       "Japan     80\n",
       "China    450\n",
       "India    200\n",
       "USA      250\n",
       "dtype: int64"
      ]
     },
     "execution_count": 21,
     "metadata": {},
     "output_type": "execute_result"
    }
   ],
   "source": [
    "sales_q1"
   ]
  },
  {
   "cell_type": "code",
   "execution_count": 22,
   "id": "13b8043d-c362-4275-9454-7cfd8aa25b0f",
   "metadata": {},
   "outputs": [
    {
     "data": {
      "text/plain": [
       "Brazil    100\n",
       "China     500\n",
       "India     210\n",
       "USA       260\n",
       "dtype: int64"
      ]
     },
     "execution_count": 22,
     "metadata": {},
     "output_type": "execute_result"
    }
   ],
   "source": [
    "sales_q2"
   ]
  },
  {
   "cell_type": "code",
   "execution_count": 23,
   "id": "89fcdc24-a53a-4454-aa8d-5addacc2a5d4",
   "metadata": {},
   "outputs": [
    {
     "data": {
      "text/plain": [
       "np.int64(80)"
      ]
     },
     "execution_count": 23,
     "metadata": {},
     "output_type": "execute_result"
    }
   ],
   "source": [
    "sales_q1['Japan']"
   ]
  },
  {
   "cell_type": "code",
   "execution_count": 24,
   "id": "7e020fbc-2f60-4808-a485-db9452208387",
   "metadata": {},
   "outputs": [
    {
     "name": "stderr",
     "output_type": "stream",
     "text": [
      "/var/folders/pz/7z41zr2s0kg46yhdwsdgyvnh0000gp/T/ipykernel_72207/92651501.py:1: FutureWarning: Series.__getitem__ treating keys as positions is deprecated. In a future version, integer keys will always be treated as labels (consistent with DataFrame behavior). To access a value by position, use `ser.iloc[pos]`\n",
      "  sales_q1[0]\n"
     ]
    },
    {
     "data": {
      "text/plain": [
       "np.int64(80)"
      ]
     },
     "execution_count": 24,
     "metadata": {},
     "output_type": "execute_result"
    }
   ],
   "source": [
    "sales_q1[0]"
   ]
  },
  {
   "cell_type": "code",
   "execution_count": 25,
   "id": "de94b4c0-ad15-4dec-b102-80a7c2060d12",
   "metadata": {},
   "outputs": [
    {
     "data": {
      "text/plain": [
       "Index(['Japan', 'China', 'India', 'USA'], dtype='object')"
      ]
     },
     "execution_count": 25,
     "metadata": {},
     "output_type": "execute_result"
    }
   ],
   "source": [
    "sales_q1.keys()"
   ]
  },
  {
   "cell_type": "code",
   "execution_count": 26,
   "id": "941b3b66-0338-4286-8191-b19266948a38",
   "metadata": {},
   "outputs": [
    {
     "data": {
      "text/plain": [
       "[1, 2, 1, 2]"
      ]
     },
     "execution_count": 26,
     "metadata": {},
     "output_type": "execute_result"
    }
   ],
   "source": [
    "[1,2] * 2"
   ]
  },
  {
   "cell_type": "code",
   "execution_count": 27,
   "id": "3f0a0a9c-7677-4792-b03f-a21f109f2eeb",
   "metadata": {},
   "outputs": [
    {
     "data": {
      "text/plain": [
       "array([2, 4])"
      ]
     },
     "execution_count": 27,
     "metadata": {},
     "output_type": "execute_result"
    }
   ],
   "source": [
    "np.array([1,2]) * 2"
   ]
  },
  {
   "cell_type": "code",
   "execution_count": 28,
   "id": "ef250d01-d758-4d9e-b14e-9e8187b0aa77",
   "metadata": {},
   "outputs": [
    {
     "data": {
      "text/plain": [
       "Brazil      NaN\n",
       "China     950.0\n",
       "India     410.0\n",
       "Japan       NaN\n",
       "USA       510.0\n",
       "dtype: float64"
      ]
     },
     "execution_count": 28,
     "metadata": {},
     "output_type": "execute_result"
    }
   ],
   "source": [
    "sales_q1 + sales_q2"
   ]
  },
  {
   "cell_type": "code",
   "execution_count": 30,
   "id": "ebc827a4-df43-467c-bebe-43978f1b2f93",
   "metadata": {},
   "outputs": [
    {
     "data": {
      "text/plain": [
       "Brazil    100.0\n",
       "China     950.0\n",
       "India     410.0\n",
       "Japan      80.0\n",
       "USA       510.0\n",
       "dtype: float64"
      ]
     },
     "execution_count": 30,
     "metadata": {},
     "output_type": "execute_result"
    }
   ],
   "source": [
    "sales_q1.add(sales_q2, fill_value=0)"
   ]
  }
 ],
 "metadata": {
  "kernelspec": {
   "display_name": "Python 3 (ipykernel)",
   "language": "python",
   "name": "python3"
  },
  "language_info": {
   "codemirror_mode": {
    "name": "ipython",
    "version": 3
   },
   "file_extension": ".py",
   "mimetype": "text/x-python",
   "name": "python",
   "nbconvert_exporter": "python",
   "pygments_lexer": "ipython3",
   "version": "3.12.7"
  }
 },
 "nbformat": 4,
 "nbformat_minor": 5
}
